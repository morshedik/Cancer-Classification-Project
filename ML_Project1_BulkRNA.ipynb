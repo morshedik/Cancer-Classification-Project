{
  "nbformat": 4,
  "nbformat_minor": 0,
  "metadata": {
    "colab": {
      "provenance": [],
      "toc_visible": true,
      "authorship_tag": "ABX9TyOyqL6Csmiws0093pCyMdO+"
    },
    "kernelspec": {
      "name": "python3",
      "display_name": "Python 3"
    },
    "language_info": {
      "name": "python"
    }
  },
  "cells": [
    {
      "cell_type": "markdown",
      "source": [
        "# Upload the file to the Colab"
      ],
      "metadata": {
        "id": "0X768jX4QsaQ"
      }
    },
    {
      "cell_type": "code",
      "source": [
        "## 1. Setup and Data Loading 📂\n",
        "\n",
        "#Mount Google Drive and load the RNA-seq and metadata files.\n",
        "\n",
        "\n",
        "from google.colab import drive\n",
        "drive.mount('/content/drive', force_remount=True)\n",
        "\n",
        "# Verify files in TCGA_Data folder\n",
        "!ls \"/content/drive/My Drive/Colab Notebooks/TCGA_Data\""
      ],
      "metadata": {
        "id": "N4ZW6aW8TCCu"
      },
      "execution_count": null,
      "outputs": []
    },
    {
      "cell_type": "code",
      "source": [
        "!ls \"/content/drive/My Drive/Colab Notebooks/TCGA_Data\""
      ],
      "metadata": {
        "id": "xpR9q6ViaczA"
      },
      "execution_count": null,
      "outputs": []
    },
    {
      "cell_type": "code",
      "source": [
        "import pandas as pd\n",
        "\n",
        "# File paths\n",
        "rnaseq_path = '/content/drive/My Drive/Colab Notebooks/TCGA_Data/EB++AdjustPANCAN_IlluminaHiSeq_RNASeqV2.geneExp.xena'\n",
        "metadata_path = '/content/drive/My Drive/Colab Notebooks/TCGA_Data/TCGA_phenotype_denseDataOnlyDownload.tsv'\n",
        "\n",
        "# Load data\n",
        "data = pd.read_csv(rnaseq_path, sep='\\t')\n",
        "metadata = pd.read_csv(metadata_path, sep='\\t')\n",
        "\n",
        "# Transpose RNA-seq data and merge with metadata\n",
        "data = data.set_index('sample').T.reset_index().rename(columns={'index': 'sample'})\n",
        "merged_data = pd.merge(data, metadata, on='sample', how='inner')\n",
        "\n",
        "# Rename '_primary_disease' to 'primary_disease' for consistency\n",
        "merged_data = merged_data.rename(columns={'_primary_disease': 'primary_disease'})\n",
        "\n",
        "# Preview\n",
        "print(\"Merged Data Head:\")\n",
        "print(merged_data.head())\n",
        "print(\"Shape:\", merged_data.shape)  # ~11,060 rows, 20,533 columns"
      ],
      "metadata": {
        "collapsed": true,
        "id": "MGF7BeWYaoKj"
      },
      "execution_count": null,
      "outputs": []
    },
    {
      "cell_type": "code",
      "source": [
        "# Shape and columns\n",
        "print(\"Shape:\", merged_data.shape)\n",
        "print(\"Columns (First 10):\", merged_data.columns[:10])\n",
        "\n",
        "# Unique cancer types\n",
        "print(\"Unique Cancer Types:\")\n",
        "print(merged_data['primary_disease'].unique())"
      ],
      "metadata": {
        "collapsed": true,
        "id": "Q1EdPHi4bGj_"
      },
      "execution_count": null,
      "outputs": []
    },
    {
      "cell_type": "markdown",
      "source": [
        "# preprocess this for your classification task"
      ],
      "metadata": {
        "id": "RV0ll9qjTPhn"
      }
    },
    {
      "cell_type": "markdown",
      "source": [
        "**Filtering to Target Cancers**"
      ],
      "metadata": {
        "id": "obQT1f2inqQG"
      }
    },
    {
      "cell_type": "code",
      "source": [
        "# Target cancer types\n",
        "target_cancers = ['breast invasive carcinoma', 'lung adenocarcinoma', 'prostate adenocarcinoma']\n",
        "filtered_data = merged_data[merged_data['primary_disease'].isin(target_cancers)]\n",
        "\n",
        "# Verify\n",
        "print(\"Filtered Data Head:\")\n",
        "print(filtered_data.head())\n",
        "print(\"Filtered Shape:\", filtered_data.shape)  # e.g., ~2,500 rows\n",
        "print(\"Cancer Type Counts:\")\n",
        "print(filtered_data['primary_disease'].value_counts())"
      ],
      "metadata": {
        "id": "_Z8FzrjqFqHg",
        "collapsed": true
      },
      "execution_count": null,
      "outputs": []
    },
    {
      "cell_type": "markdown",
      "source": [
        "**Check for Missing Values and Data Cleaning:**"
      ],
      "metadata": {
        "id": "8Fb8VeP3rXAw"
      }
    },
    {
      "cell_type": "code",
      "source": [
        "# Check missing values\n",
        "print(\"Total Missing Values:\", filtered_data.isnull().sum().sum())\n",
        "print(\"Columns with Missing Values (Sample):\")\n",
        "print(filtered_data.isnull().sum()[filtered_data.isnull().sum() > 0].head())\n",
        "\n",
        "# Rows with missing values\n",
        "missing_rows = filtered_data[filtered_data.isnull().any(axis=1)]\n",
        "print(\"Rows with Missing Values (Head):\")\n",
        "print(missing_rows[['sample', 'primary_disease']].head())\n",
        "print(\"Number of Rows with Missing Values:\", len(missing_rows))\n",
        "\n",
        "# Total missing in gene columns\n",
        "gene_cols = [col for col in filtered_data.columns if col not in ['sample', 'primary_disease']]\n",
        "print(\"Missing in Gene Columns:\", filtered_data[gene_cols].isnull().sum().sum())\n",
        "\n",
        "# Drop rows with missing gene values (1.3% of data)\n",
        "cleaned_data = filtered_data.dropna(subset=gene_cols)\n",
        "print(\"Cleaned Shape:\", cleaned_data.shape)\n",
        "print(\"Remaining Cancer Type Counts:\")\n",
        "print(cleaned_data['primary_disease'].value_counts())\n",
        "\n",
        "# Verify normalization (log2-transformed data)\n",
        "print(\"Sample Gene Values:\")\n",
        "print(cleaned_data[gene_cols[:5]].head())"
      ],
      "metadata": {
        "id": "zQ251bQGxWje"
      },
      "execution_count": null,
      "outputs": []
    },
    {
      "cell_type": "code",
      "source": [
        "#The data is already log2-transformed (values like 0.00, 2.09 from your output confirm this),\n",
        "#so no further normalization is needed for now. We’ll confirm:\n",
        "print(\"Sample Gene Values:\")\n",
        "print(cleaned_data[gene_cols[:5]].head())  # First 5 genes"
      ],
      "metadata": {
        "id": "xUc53Vh2SL-2"
      },
      "execution_count": null,
      "outputs": []
    },
    {
      "cell_type": "markdown",
      "source": [
        "# Feature Selection"
      ],
      "metadata": {
        "id": "65H9h4JMXDd8"
      }
    },
    {
      "cell_type": "markdown",
      "source": [
        "**Extract Features:**"
      ],
      "metadata": {
        "id": "rpl28xAlXVqb"
      }
    },
    {
      "cell_type": "code",
      "source": [
        "!pip install scikit-learn\n",
        "\n",
        "# Separate features and labels\n",
        "X = cleaned_data.drop(columns=['sample', 'primary_disease','sample_type'])\n",
        "y = cleaned_data['primary_disease']\n",
        "\n",
        "# Calculate gene variances\n",
        "gene_variances = X.var()\n",
        "print(\"Top 5 Gene Variances:\")\n",
        "print(gene_variances.nlargest(5))\n",
        "\n",
        "# Select top 100 genes\n",
        "top_genes = gene_variances.nlargest(100).index\n",
        "X_selected = X[top_genes]\n",
        "\n",
        "# Combine with essential columns\n",
        "preprocessed_data = pd.concat([cleaned_data[['sample', 'primary_disease']], X_selected], axis=1)\n",
        "print(\"Preprocessed Data Head:\")\n",
        "print(preprocessed_data.head())\n",
        "print(\"Preprocessed Shape:\", preprocessed_data.shape)  # e.g., ~2,467 x 102"
      ],
      "metadata": {
        "id": "sS8XM01WX1QU"
      },
      "execution_count": null,
      "outputs": []
    },
    {
      "cell_type": "markdown",
      "source": [
        "**Gene Variance**"
      ],
      "metadata": {
        "id": "Ij6-aHKZYqwq"
      }
    },
    {
      "cell_type": "markdown",
      "source": [
        "**Select 100 top genes**"
      ],
      "metadata": {
        "id": "zo4FFga8Z9gK"
      }
    },
    {
      "cell_type": "code",
      "source": [
        "from sklearn.model_selection import train_test_split\n",
        "\n",
        "# Features and labels\n",
        "X = preprocessed_data.drop(columns=['sample', 'primary_disease'])\n",
        "y = preprocessed_data['primary_disease']\n",
        "\n",
        "# Split with a fixed random state for reproducibility\n",
        "X_train, X_test, y_train, y_test = train_test_split(X, y, test_size=0.2, random_state=42)\n",
        "\n",
        "print(\"Training Set Shape:\", X_train.shape)\n",
        "print(\"Testing Set Shape:\", X_test.shape)\n",
        "print(\"Training Labels Sample:\")\n",
        "print(y_train.head())"
      ],
      "metadata": {
        "id": "SlMYzDQsYug2"
      },
      "execution_count": null,
      "outputs": []
    }
  ]
}