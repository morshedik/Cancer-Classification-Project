{
  "nbformat": 4,
  "nbformat_minor": 0,
  "metadata": {
    "colab": {
      "provenance": [],
      "toc_visible": true,
      "authorship_tag": "ABX9TyPoj08427eCvRVxYsPuMxdK",
      "include_colab_link": true
    },
    "kernelspec": {
      "name": "python3",
      "display_name": "Python 3"
    },
    "language_info": {
      "name": "python"
    }
  },
  "cells": [
    {
      "cell_type": "markdown",
      "metadata": {
        "id": "view-in-github",
        "colab_type": "text"
      },
      "source": [
        "<a href=\"https://colab.research.google.com/github/morshedik/Cancer-Classification-Project/blob/main/ML_Project1_BulkRNA.ipynb\" target=\"_parent\"><img src=\"https://colab.research.google.com/assets/colab-badge.svg\" alt=\"Open In Colab\"/></a>"
      ]
    },
    {
      "cell_type": "markdown",
      "source": [
        "# Upload the file to the Colab"
      ],
      "metadata": {
        "id": "0X768jX4QsaQ"
      }
    },
    {
      "cell_type": "code",
      "source": [
        "from google.colab import drive\n",
        "drive.mount('/content/drive', force_remount=True)"
      ],
      "metadata": {
        "id": "N4ZW6aW8TCCu"
      },
      "execution_count": null,
      "outputs": []
    },
    {
      "cell_type": "code",
      "source": [
        "!ls \"/content/drive/My Drive/Colab Notebooks/TCGA_Data\""
      ],
      "metadata": {
        "id": "xpR9q6ViaczA"
      },
      "execution_count": null,
      "outputs": []
    },
    {
      "cell_type": "code",
      "source": [
        "import pandas as pd\n",
        "\n",
        "# # Paths to your files\n",
        "rnaseq_path = '/content/drive/My Drive/Colab Notebooks/TCGA_Data/EB++AdjustPANCAN_IlluminaHiSeq_RNASeqV2.geneExp.xena'\n",
        "metadata_path = '/content/drive/My Drive/Colab Notebooks/TCGA_Data/TCGA_phenotype_denseDataOnlyDownload.tsv'\n",
        "\n",
        "\n",
        "\n",
        "# Reload and merge (skip if merged_data is still in memory)\n",
        "metadata = pd.read_csv(metadata_path, sep='\\t')\n",
        "data = pd.read_csv(rnaseq_path, sep='\\t')\n",
        "\n",
        "# Set the gene names as the index and transpose\n",
        "#data = data.set_index('sample')  # Assuming the first column is 'gene'\n",
        "#data = data.T  # Transpose so samples are rows\n",
        "# Reset index to make sample IDs a column\n",
        "#data = data.reset_index().rename(columns={'index': 'sample'})\n",
        "data = data.set_index('sample').T.reset_index().rename(columns={'index': 'sample'})\n",
        "# Merge with metadata\n",
        "merged_data = pd.merge(data, metadata, on='sample', how='inner')\n",
        "\n",
        "#  only change the name of column _primary_disease to primary_disease\n",
        "merged_data = merged_data.rename(columns={'_primary_disease': 'primary_disease'})\n",
        "\n",
        "# Check the merged data\n",
        "print(\"Merged Data:\")\n",
        "print(merged_data.head())\n",
        "print(\"shape:\", merged_data.shape)\n"
      ],
      "metadata": {
        "collapsed": true,
        "id": "MGF7BeWYaoKj"
      },
      "execution_count": null,
      "outputs": []
    },
    {
      "cell_type": "markdown",
      "source": [
        "**Confirmation based on the metadata folder**\n"
      ],
      "metadata": {
        "id": "5e2_GuFqTDD2"
      }
    },
    {
      "cell_type": "code",
      "source": [
        "# prompt: find information of this TCGA-EE-A29N-06 in the merged_data\n",
        "#make sure merging is correct\n",
        "\n",
        "# Assuming merged_data is already created as in the previous code\n",
        "\n",
        "# Find information for TCGA-EM-A2CS-06\n",
        "sample_info = merged_data[merged_data['sample'] == 'TCGA-EE-A29N-06']\n",
        "\n",
        "# Print the information\n",
        "sample_info\n"
      ],
      "metadata": {
        "id": "GdxuhdNQbNP4"
      },
      "execution_count": null,
      "outputs": []
    },
    {
      "cell_type": "markdown",
      "source": [
        "# Explore the Data"
      ],
      "metadata": {
        "id": "_w2m_uVkbm0T"
      }
    },
    {
      "cell_type": "code",
      "source": [
        "# Number of rows and columns\n",
        "print(\"Shape:\", merged_data.shape)  # Expect ~20,000 rows (genes) x 11,061 columns (samples + gene names)\n",
        "\n",
        "# Column names (sample IDs and gene names)\n",
        "print(\"Columns:\", merged_data.columns)\n",
        "\n",
        "# First few rows\n",
        "print(merged_data.head())\n",
        "\n",
        "# Replace 'primary_disease' with the actual column name\n",
        "print(\"Unique Cancer Types:\")\n",
        "print(merged_data['primary_disease'].unique())"
      ],
      "metadata": {
        "collapsed": true,
        "id": "Q1EdPHi4bGj_"
      },
      "execution_count": null,
      "outputs": []
    },
    {
      "cell_type": "markdown",
      "source": [
        "# preprocess this for your classification task"
      ],
      "metadata": {
        "id": "RV0ll9qjTPhn"
      }
    },
    {
      "cell_type": "markdown",
      "source": [
        "**Explore and Filter the Data**"
      ],
      "metadata": {
        "id": "obQT1f2inqQG"
      }
    },
    {
      "cell_type": "code",
      "source": [
        "# Filter to BRCA, LUAD, PRAD\n",
        "target_cancers = ['breast invasive carcinoma', 'lung adenocarcinoma', 'prostate adenocarcinoma']\n",
        "filtered_data = merged_data[merged_data['primary_disease'].isin(target_cancers)]\n",
        "\n",
        "# Verify the filter\n",
        "print(\"Filtered Data Head:\")\n",
        "print(filtered_data.head())\n",
        "print(\"Filtered Shape:\", filtered_data.shape)\n",
        "print(\"Filtered Cancer Types:\")\n",
        "print(filtered_data['primary_disease'].value_counts()) #count each new one\n"
      ],
      "metadata": {
        "id": "_Z8FzrjqFqHg",
        "collapsed": true
      },
      "execution_count": null,
      "outputs": []
    },
    {
      "cell_type": "markdown",
      "source": [
        "**Check for Missing Values and Data Cleaning:**"
      ],
      "metadata": {
        "id": "8Fb8VeP3rXAw"
      }
    },
    {
      "cell_type": "code",
      "source": [
        "\n",
        "# Total missing values\n",
        "print(\"Missing Values Total:\")\n",
        "print(filtered_data.isnull().sum().sum())\n",
        "# Total missing values per column\n",
        "missing_by_col = filtered_data.isnull().sum()\n",
        "print(\"Columns with Missing Values:\")\n",
        "print(missing_by_col[missing_by_col > 0])\n",
        "\n",
        "# Rows with missing values\n",
        "missing_rows = filtered_data[filtered_data.isnull().any(axis=1)]\n",
        "print(\"Rows with Missing Values (Head):\")\n",
        "print(missing_rows[['sample', 'primary_disease']].head())\n",
        "print(\"Number of Rows with Missing Values:\", len(missing_rows))\n",
        "\n",
        "# Check if missing values are in gene columns\n",
        "gene_cols = [col for col in filtered_data.columns if col not in ['sample', 'primary_disease']]\n",
        "missing_in_genes = filtered_data[gene_cols].isnull().sum().sum()\n",
        "print(\"Total Missing Values in Gene Columns:\", missing_in_genes)\n",
        "#Scale:\n",
        "#Total genes: ~20,531 (based on TCGA norms).\n",
        "#Missing in 1,443 genes: ~7% of all genes.\n",
        "#Total samples (assuming ~2,500 after filtering BRCA, LUAD, PRAD): 33 is ~1.3%.\n",
        "#Impact:\n",
        "#These 33 samples are incomplete for a significant chunk of genes (1,443), making them less reliable for training.\n",
        "\n",
        "# Drop rows with missing gene values\n",
        "gene_cols = [col for col in filtered_data.columns if col not in ['sample', 'primary_disease']]\n",
        "cleaned_data = filtered_data.dropna(subset=gene_cols)\n",
        "\n",
        "# Verify\n",
        "print(\"Cleaned Shape:\", cleaned_data.shape)\n",
        "print(\"Remaining Cancer Type Counts:\")\n",
        "print(cleaned_data['primary_disease'].value_counts())\n",
        "print(\"tumor types befor removing missing rows\", filtered_data['primary_disease'].value_counts())\n",
        "\n",
        "# Check variance of dropped genes (optional)\n",
        "#.loc[]: This is used for selection by label.\n",
        "dropped_samples = filtered_data.loc[filtered_data.isnull().any(axis=1), gene_cols]\n",
        "dropped_genes = dropped_samples.columns[dropped_samples.isnull().any()]\n",
        "print(\"Variance of First 5 Dropped Genes:\")\n",
        "print(filtered_data[dropped_genes[:5]].var())"
      ],
      "metadata": {
        "id": "zQ251bQGxWje"
      },
      "execution_count": null,
      "outputs": []
    },
    {
      "cell_type": "code",
      "source": [
        "#The data is already log2-transformed (values like 0.00, 2.09 from your output confirm this),\n",
        "#so no further normalization is needed for now. We’ll confirm:\n",
        "print(\"Sample Gene Values:\")\n",
        "print(cleaned_data[gene_cols[:5]].head())  # First 5 genes"
      ],
      "metadata": {
        "id": "xUc53Vh2SL-2"
      },
      "execution_count": null,
      "outputs": []
    },
    {
      "cell_type": "markdown",
      "source": [
        "# Feature Selection"
      ],
      "metadata": {
        "id": "65H9h4JMXDd8"
      }
    },
    {
      "cell_type": "code",
      "source": [
        "!pip install scikit-learn"
      ],
      "metadata": {
        "id": "u6X189duXJPd"
      },
      "execution_count": null,
      "outputs": []
    },
    {
      "cell_type": "markdown",
      "source": [
        "**Extract Features:**"
      ],
      "metadata": {
        "id": "rpl28xAlXVqb"
      }
    },
    {
      "cell_type": "code",
      "source": [
        "# Separate features (genes) from labels and sample IDs\n",
        "X = filtered_data.drop(columns=['sample', 'primary_disease','sample_type'])\n",
        "y = filtered_data['primary_disease']\n",
        "# Select non-numeric columns for variance calculation(for confirmation)\n",
        "numeric_X = X.select_dtypes(exclude=['number'])  # Keep only numeric columns\n",
        "numeric_X.head()"
      ],
      "metadata": {
        "id": "sS8XM01WX1QU"
      },
      "execution_count": null,
      "outputs": []
    },
    {
      "cell_type": "code",
      "source": [
        "#confirmation\n",
        "# Find information for TCGA-EM-A2CS-06(Melanoma)\n",
        "sample_info = cleaned_data[cleaned_data['sample'] == 'TCGA-EE-A29N-06']\n",
        "\n",
        "# Print the information\n",
        "sample_info"
      ],
      "metadata": {
        "id": "zB2uPv36X8eX"
      },
      "execution_count": null,
      "outputs": []
    },
    {
      "cell_type": "markdown",
      "source": [
        "**Gene Variance**"
      ],
      "metadata": {
        "id": "Ij6-aHKZYqwq"
      }
    },
    {
      "cell_type": "code",
      "source": [
        "# Variance of each gene\n",
        "gene_variances = X.var()\n",
        "print(\"Top 5 Gene Variances:\")\n",
        "print(gene_variances.nlargest(5))"
      ],
      "metadata": {
        "id": "2fwW6nYbYfOl"
      },
      "execution_count": null,
      "outputs": []
    },
    {
      "cell_type": "markdown",
      "source": [
        "**Select 100 top genes**"
      ],
      "metadata": {
        "id": "zo4FFga8Z9gK"
      }
    },
    {
      "cell_type": "code",
      "source": [
        "# Get top 100 most variable genes\n",
        "#Genes with higher variance are generally more informative for classification tasks because\n",
        "#they exhibit different expression patterns across different classes\n",
        "top_genes = gene_variances.nlargest(100).index\n",
        "X_selected = X[top_genes]\n",
        "\n",
        "# Combine with sample and labels\n",
        "preprocessed_data = pd.concat([cleaned_data[['sample', 'primary_disease']], X_selected], axis=1)\n",
        "print(\"Preprocessed Data Head:\")\n",
        "print(preprocessed_data.head())\n",
        "print(\"Shape:\", preprocessed_data.shape)  # ~2500 rows x 102 columns"
      ],
      "metadata": {
        "id": "SlMYzDQsYug2"
      },
      "execution_count": null,
      "outputs": []
    },
    {
      "cell_type": "markdown",
      "source": [
        "**Split the Data**\n",
        "**Goal:** Create training (80%) and testing (20%) sets."
      ],
      "metadata": {
        "id": "ccZStCHZbtuk"
      }
    },
    {
      "cell_type": "code",
      "source": [
        "# @title\n",
        "from sklearn.model_selection import train_test_split\n",
        "\n",
        "# Features and labels\n",
        "X = preprocessed_data.drop(columns=['sample', 'primary_disease'])\n",
        "y = preprocessed_data['primary_disease']\n",
        "\n",
        "# Split\n",
        "X_train, X_test, y_train, y_test = train_test_split(X, y, test_size=0.2, random_state=42)\n",
        "\n",
        "print(\"Training Set Shape:\", X_train.shape)\n",
        "print(\"Testing Set Shape:\", X_test.shape)\n",
        "print(\"Training Labels Sample:\", y_train.head())"
      ],
      "metadata": {
        "id": "tmr3njAvbwhl"
      },
      "execution_count": null,
      "outputs": []
    }
  ]
}