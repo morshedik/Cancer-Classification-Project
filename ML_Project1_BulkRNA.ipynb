{
  "nbformat": 4,
  "nbformat_minor": 0,
  "metadata": {
    "colab": {
      "provenance": [],
      "toc_visible": true,
      "authorship_tag": "ABX9TyNGl4Tmy+81v56Ga9KY3Fhe",
      "include_colab_link": true
    },
    "kernelspec": {
      "name": "python3",
      "display_name": "Python 3"
    },
    "language_info": {
      "name": "python"
    }
  },
  "cells": [
    {
      "cell_type": "markdown",
      "metadata": {
        "id": "view-in-github",
        "colab_type": "text"
      },
      "source": [
        "<a href=\"https://colab.research.google.com/github/morshedik/Cancer-Classification-Project/blob/main/ML_Project1_BulkRNA.ipynb\" target=\"_parent\"><img src=\"https://colab.research.google.com/assets/colab-badge.svg\" alt=\"Open In Colab\"/></a>"
      ]
    },
    {
      "cell_type": "markdown",
      "source": [
        "# Upload the file to the Colab"
      ],
      "metadata": {
        "id": "0X768jX4QsaQ"
      }
    },
    {
      "cell_type": "code",
      "source": [
        "from google.colab import drive\n",
        "drive.mount('/content/drive', force_remount=True)"
      ],
      "metadata": {
        "colab": {
          "base_uri": "https://localhost:8080/"
        },
        "id": "N4ZW6aW8TCCu",
        "outputId": "76f9da7a-71c1-44ee-a336-b97dc0e1ac0f"
      },
      "execution_count": 16,
      "outputs": [
        {
          "output_type": "stream",
          "name": "stdout",
          "text": [
            "Mounted at /content/drive\n"
          ]
        }
      ]
    },
    {
      "cell_type": "code",
      "source": [
        "!ls \"/content/drive/My Drive/Colab Notebooks/TCGA_Data\""
      ],
      "metadata": {
        "colab": {
          "base_uri": "https://localhost:8080/"
        },
        "id": "xpR9q6ViaczA",
        "outputId": "c8743f9a-2635-4508-f6a6-7606448a93b6"
      },
      "execution_count": 22,
      "outputs": [
        {
          "output_type": "stream",
          "name": "stdout",
          "text": [
            "EB++AdjustPANCAN_IlluminaHiSeq_RNASeqV2.geneExp.xena  TCGA_phenotype_denseDataOnlyDownload.tsv\n"
          ]
        }
      ]
    },
    {
      "cell_type": "code",
      "source": [
        "import pandas as pd\n",
        "\n",
        "# Load the RNA-seq data (adjust path as needed)\n",
        "rnaseq_path = '/content/drive/My Drive/Colab Notebooks/TCGA_Data/EB++AdjustPANCAN_IlluminaHiSeq_RNASeqV2.geneExp.xena'\n",
        "data = pd.read_csv(rnaseq_path, sep='\\t')\n",
        "\n",
        "# Load the metadata (adjust path or filename as needed)\n",
        "metadata_path = '/content/drive/My Drive/Colab Notebooks/TCGA_Data/TCGA_phenotype_denseDataOnlyDownload.tsv'\n",
        "metadata = pd.read_csv(metadata_path, sep='\\t')\n",
        "\n",
        "# Check the first few rows of both\n",
        "print(\"RNA-seq Data:\")\n",
        "print(data.head())\n",
        "print(\"Metadata:\")\n",
        "print(metadata.head())"
      ],
      "metadata": {
        "colab": {
          "base_uri": "https://localhost:8080/"
        },
        "id": "MGF7BeWYaoKj",
        "outputId": "54de08bd-75f4-4902-8816-6561ce396116"
      },
      "execution_count": 26,
      "outputs": [
        {
          "output_type": "stream",
          "name": "stdout",
          "text": [
            "RNA-seq Data:\n",
            "      sample  TCGA-OR-A5J1-01  TCGA-OR-A5J2-01  TCGA-OR-A5J3-01  \\\n",
            "0  100130426             0.00             0.00             0.00   \n",
            "1  100133144             2.09             1.88             1.45   \n",
            "2  100134869             2.30             3.32             2.92   \n",
            "3      10357             7.23             6.36             6.45   \n",
            "4      10431            10.99            10.35            10.04   \n",
            "\n",
            "   TCGA-OR-A5J5-01  TCGA-OR-A5J6-01  TCGA-OR-A5J7-01  TCGA-OR-A5J8-01  \\\n",
            "0             0.00             0.00             0.00             0.00   \n",
            "1             0.00             0.00             1.12             1.29   \n",
            "2             1.35             2.45             2.82             1.72   \n",
            "3             5.78             6.09             6.71             6.58   \n",
            "4            11.20            10.30            10.87             9.96   \n",
            "\n",
            "   TCGA-OR-A5J9-01  TCGA-OR-A5JA-01  ...  TCGA-CG-4449-01  TCGA-CG-4462-01  \\\n",
            "0             0.00             0.00  ...              NaN              NaN   \n",
            "1             0.00             2.45  ...             2.42             2.74   \n",
            "2             1.24             2.60  ...             1.87             2.12   \n",
            "3             6.31             6.13  ...             9.31             8.20   \n",
            "4            10.78            10.25  ...            10.23             9.33   \n",
            "\n",
            "   TCGA-CG-4465-01  TCGA-CG-4466-01  TCGA-CG-4469-01  TCGA-CG-4472-01  \\\n",
            "0              NaN              NaN              NaN              NaN   \n",
            "1             2.64             3.99             4.40             3.00   \n",
            "2             1.78             2.60             3.66             3.87   \n",
            "3             9.43             9.14            10.02             9.32   \n",
            "4            10.21             9.38             9.34            10.34   \n",
            "\n",
            "   TCGA-CG-4474-01  TCGA-CG-4475-01  TCGA-CG-4476-01  TCGA-CG-4477-01  \n",
            "0              NaN              NaN              NaN              NaN  \n",
            "1             4.27             3.71             4.29             4.24  \n",
            "2             3.07             3.65             3.64             3.99  \n",
            "3             9.54             8.99             9.48             9.46  \n",
            "4            10.17            10.43             9.93            10.76  \n",
            "\n",
            "[5 rows x 11070 columns]\n",
            "Metadata:\n",
            "            sample  sample_type_id            sample_type  \\\n",
            "0  TCGA-D3-A1QA-07             7.0  Additional Metastatic   \n",
            "1  TCGA-DE-A4MD-06             6.0             Metastatic   \n",
            "2  TCGA-J8-A3O2-06             6.0             Metastatic   \n",
            "3  TCGA-J8-A3YH-06             6.0             Metastatic   \n",
            "4  TCGA-EM-A2P1-06             6.0             Metastatic   \n",
            "\n",
            "          _primary_disease  \n",
            "0  skin cutaneous melanoma  \n",
            "1        thyroid carcinoma  \n",
            "2        thyroid carcinoma  \n",
            "3        thyroid carcinoma  \n",
            "4        thyroid carcinoma  \n"
          ]
        }
      ]
    },
    {
      "cell_type": "markdown",
      "source": [
        "**Merge metadata with data**"
      ],
      "metadata": {
        "id": "WgCkHqi2aC9B"
      }
    },
    {
      "cell_type": "code",
      "source": [
        "# Set the gene names as the index and transpose\n",
        "data = data.set_index('sample')  # Assuming the first column is 'gene'\n",
        "data = data.T  # Transpose so samples are rows\n",
        "\n",
        "# Reset index to make sample IDs a column\n",
        "data = data.reset_index().rename(columns={'index': 'sample'})\n",
        "\n",
        "# Merge with metadata\n",
        "merged_data = pd.merge(data, metadata, on='sample', how='inner')\n",
        "\n",
        "# Check the merged data\n",
        "print(\"Merged Data:\")\n",
        "print(merged_data.head())"
      ],
      "metadata": {
        "colab": {
          "base_uri": "https://localhost:8080/"
        },
        "collapsed": true,
        "id": "aeUwCeX0aIuv",
        "outputId": "71a0ef3c-4760-40f7-d436-ea7db767c31d"
      },
      "execution_count": 28,
      "outputs": [
        {
          "output_type": "stream",
          "name": "stdout",
          "text": [
            "Merged Data:\n",
            "            sample  100130426  100133144  100134869  10357  10431  136542  \\\n",
            "0  TCGA-OR-A5J1-01        0.0       2.09       2.30   7.23  10.99     0.0   \n",
            "1  TCGA-OR-A5J2-01        0.0       1.88       3.32   6.36  10.35     0.0   \n",
            "2  TCGA-OR-A5J3-01        0.0       1.45       2.92   6.45  10.04     0.0   \n",
            "3  TCGA-OR-A5J5-01        0.0       0.00       1.35   5.78  11.20     0.0   \n",
            "4  TCGA-OR-A5J6-01        0.0       0.00       2.45   6.09  10.30     0.0   \n",
            "\n",
            "   155060  26823  280660  ...  ZXDB   ZXDC  ZYG11A  ZYG11B    ZYX  ZZEF1  \\\n",
            "0    8.10   1.29     0.0  ...  8.46  10.04    0.57    9.34  10.85  10.18   \n",
            "1    7.65   0.00     0.0  ...  8.13  11.54    5.02   10.19  11.58  10.89   \n",
            "2    8.45   0.67     0.0  ...  8.96   9.84    0.67    9.66  11.38  10.53   \n",
            "3    8.78   0.83     0.0  ...  7.69   9.80    3.66    9.12  11.21  10.16   \n",
            "4    7.23   0.00     0.0  ...  6.89   9.81    3.14    9.64   9.47   9.64   \n",
            "\n",
            "   ZZZ3  sample_type_id    sample_type       _primary_disease  \n",
            "0  9.22             1.0  Primary Tumor  adrenocortical cancer  \n",
            "1  9.65             1.0  Primary Tumor  adrenocortical cancer  \n",
            "2  8.78             1.0  Primary Tumor  adrenocortical cancer  \n",
            "3  9.01             1.0  Primary Tumor  adrenocortical cancer  \n",
            "4  8.90             1.0  Primary Tumor  adrenocortical cancer  \n",
            "\n",
            "[5 rows x 20535 columns]\n"
          ]
        }
      ]
    },
    {
      "cell_type": "code",
      "source": [
        "# prompt: find information of this TCGA-EE-A29N-06 in the merged_data\n",
        "#make sure merging is correct\n",
        "\n",
        "# Assuming merged_data is already created as in the previous code\n",
        "\n",
        "# Find information for TCGA-EM-A2CS-06\n",
        "sample_info = merged_data[merged_data['sample'] == 'TCGA-EE-A29N-06']\n",
        "\n",
        "# Print the information\n",
        "sample_info\n"
      ],
      "metadata": {
        "colab": {
          "base_uri": "https://localhost:8080/",
          "height": 182
        },
        "id": "GdxuhdNQbNP4",
        "outputId": "4034996b-2d95-481c-8d4b-1f0005a98b1b"
      },
      "execution_count": 34,
      "outputs": [
        {
          "output_type": "execute_result",
          "data": {
            "text/plain": [
              "              sample  100130426  100133144  100134869  10357  10431  136542  \\\n",
              "973  TCGA-EE-A29N-06        0.0       3.05       3.18   7.15   9.72     0.0   \n",
              "\n",
              "     155060  26823  280660  ...  ZXDB  ZXDC  ZYG11A  ZYG11B    ZYX  ZZEF1  \\\n",
              "973    7.91   0.87     4.5  ...  8.37  9.62    1.55    9.51  12.15  10.71   \n",
              "\n",
              "     ZZZ3  sample_type_id  sample_type         _primary_disease  \n",
              "973  9.96             6.0   Metastatic  skin cutaneous melanoma  \n",
              "\n",
              "[1 rows x 20535 columns]"
            ],
            "text/html": [
              "\n",
              "  <div id=\"df-125f80b9-1769-4a6c-a1ba-040e509938bc\" class=\"colab-df-container\">\n",
              "    <div>\n",
              "<style scoped>\n",
              "    .dataframe tbody tr th:only-of-type {\n",
              "        vertical-align: middle;\n",
              "    }\n",
              "\n",
              "    .dataframe tbody tr th {\n",
              "        vertical-align: top;\n",
              "    }\n",
              "\n",
              "    .dataframe thead th {\n",
              "        text-align: right;\n",
              "    }\n",
              "</style>\n",
              "<table border=\"1\" class=\"dataframe\">\n",
              "  <thead>\n",
              "    <tr style=\"text-align: right;\">\n",
              "      <th></th>\n",
              "      <th>sample</th>\n",
              "      <th>100130426</th>\n",
              "      <th>100133144</th>\n",
              "      <th>100134869</th>\n",
              "      <th>10357</th>\n",
              "      <th>10431</th>\n",
              "      <th>136542</th>\n",
              "      <th>155060</th>\n",
              "      <th>26823</th>\n",
              "      <th>280660</th>\n",
              "      <th>...</th>\n",
              "      <th>ZXDB</th>\n",
              "      <th>ZXDC</th>\n",
              "      <th>ZYG11A</th>\n",
              "      <th>ZYG11B</th>\n",
              "      <th>ZYX</th>\n",
              "      <th>ZZEF1</th>\n",
              "      <th>ZZZ3</th>\n",
              "      <th>sample_type_id</th>\n",
              "      <th>sample_type</th>\n",
              "      <th>_primary_disease</th>\n",
              "    </tr>\n",
              "  </thead>\n",
              "  <tbody>\n",
              "    <tr>\n",
              "      <th>973</th>\n",
              "      <td>TCGA-EE-A29N-06</td>\n",
              "      <td>0.0</td>\n",
              "      <td>3.05</td>\n",
              "      <td>3.18</td>\n",
              "      <td>7.15</td>\n",
              "      <td>9.72</td>\n",
              "      <td>0.0</td>\n",
              "      <td>7.91</td>\n",
              "      <td>0.87</td>\n",
              "      <td>4.5</td>\n",
              "      <td>...</td>\n",
              "      <td>8.37</td>\n",
              "      <td>9.62</td>\n",
              "      <td>1.55</td>\n",
              "      <td>9.51</td>\n",
              "      <td>12.15</td>\n",
              "      <td>10.71</td>\n",
              "      <td>9.96</td>\n",
              "      <td>6.0</td>\n",
              "      <td>Metastatic</td>\n",
              "      <td>skin cutaneous melanoma</td>\n",
              "    </tr>\n",
              "  </tbody>\n",
              "</table>\n",
              "<p>1 rows × 20535 columns</p>\n",
              "</div>\n",
              "    <div class=\"colab-df-buttons\">\n",
              "\n",
              "  <div class=\"colab-df-container\">\n",
              "    <button class=\"colab-df-convert\" onclick=\"convertToInteractive('df-125f80b9-1769-4a6c-a1ba-040e509938bc')\"\n",
              "            title=\"Convert this dataframe to an interactive table.\"\n",
              "            style=\"display:none;\">\n",
              "\n",
              "  <svg xmlns=\"http://www.w3.org/2000/svg\" height=\"24px\" viewBox=\"0 -960 960 960\">\n",
              "    <path d=\"M120-120v-720h720v720H120Zm60-500h600v-160H180v160Zm220 220h160v-160H400v160Zm0 220h160v-160H400v160ZM180-400h160v-160H180v160Zm440 0h160v-160H620v160ZM180-180h160v-160H180v160Zm440 0h160v-160H620v160Z\"/>\n",
              "  </svg>\n",
              "    </button>\n",
              "\n",
              "  <style>\n",
              "    .colab-df-container {\n",
              "      display:flex;\n",
              "      gap: 12px;\n",
              "    }\n",
              "\n",
              "    .colab-df-convert {\n",
              "      background-color: #E8F0FE;\n",
              "      border: none;\n",
              "      border-radius: 50%;\n",
              "      cursor: pointer;\n",
              "      display: none;\n",
              "      fill: #1967D2;\n",
              "      height: 32px;\n",
              "      padding: 0 0 0 0;\n",
              "      width: 32px;\n",
              "    }\n",
              "\n",
              "    .colab-df-convert:hover {\n",
              "      background-color: #E2EBFA;\n",
              "      box-shadow: 0px 1px 2px rgba(60, 64, 67, 0.3), 0px 1px 3px 1px rgba(60, 64, 67, 0.15);\n",
              "      fill: #174EA6;\n",
              "    }\n",
              "\n",
              "    .colab-df-buttons div {\n",
              "      margin-bottom: 4px;\n",
              "    }\n",
              "\n",
              "    [theme=dark] .colab-df-convert {\n",
              "      background-color: #3B4455;\n",
              "      fill: #D2E3FC;\n",
              "    }\n",
              "\n",
              "    [theme=dark] .colab-df-convert:hover {\n",
              "      background-color: #434B5C;\n",
              "      box-shadow: 0px 1px 3px 1px rgba(0, 0, 0, 0.15);\n",
              "      filter: drop-shadow(0px 1px 2px rgba(0, 0, 0, 0.3));\n",
              "      fill: #FFFFFF;\n",
              "    }\n",
              "  </style>\n",
              "\n",
              "    <script>\n",
              "      const buttonEl =\n",
              "        document.querySelector('#df-125f80b9-1769-4a6c-a1ba-040e509938bc button.colab-df-convert');\n",
              "      buttonEl.style.display =\n",
              "        google.colab.kernel.accessAllowed ? 'block' : 'none';\n",
              "\n",
              "      async function convertToInteractive(key) {\n",
              "        const element = document.querySelector('#df-125f80b9-1769-4a6c-a1ba-040e509938bc');\n",
              "        const dataTable =\n",
              "          await google.colab.kernel.invokeFunction('convertToInteractive',\n",
              "                                                    [key], {});\n",
              "        if (!dataTable) return;\n",
              "\n",
              "        const docLinkHtml = 'Like what you see? Visit the ' +\n",
              "          '<a target=\"_blank\" href=https://colab.research.google.com/notebooks/data_table.ipynb>data table notebook</a>'\n",
              "          + ' to learn more about interactive tables.';\n",
              "        element.innerHTML = '';\n",
              "        dataTable['output_type'] = 'display_data';\n",
              "        await google.colab.output.renderOutput(dataTable, element);\n",
              "        const docLink = document.createElement('div');\n",
              "        docLink.innerHTML = docLinkHtml;\n",
              "        element.appendChild(docLink);\n",
              "      }\n",
              "    </script>\n",
              "  </div>\n",
              "\n",
              "\n",
              "  <div id=\"id_bec8aed9-34ef-4c9c-9a20-d40a4cf01e7f\">\n",
              "    <style>\n",
              "      .colab-df-generate {\n",
              "        background-color: #E8F0FE;\n",
              "        border: none;\n",
              "        border-radius: 50%;\n",
              "        cursor: pointer;\n",
              "        display: none;\n",
              "        fill: #1967D2;\n",
              "        height: 32px;\n",
              "        padding: 0 0 0 0;\n",
              "        width: 32px;\n",
              "      }\n",
              "\n",
              "      .colab-df-generate:hover {\n",
              "        background-color: #E2EBFA;\n",
              "        box-shadow: 0px 1px 2px rgba(60, 64, 67, 0.3), 0px 1px 3px 1px rgba(60, 64, 67, 0.15);\n",
              "        fill: #174EA6;\n",
              "      }\n",
              "\n",
              "      [theme=dark] .colab-df-generate {\n",
              "        background-color: #3B4455;\n",
              "        fill: #D2E3FC;\n",
              "      }\n",
              "\n",
              "      [theme=dark] .colab-df-generate:hover {\n",
              "        background-color: #434B5C;\n",
              "        box-shadow: 0px 1px 3px 1px rgba(0, 0, 0, 0.15);\n",
              "        filter: drop-shadow(0px 1px 2px rgba(0, 0, 0, 0.3));\n",
              "        fill: #FFFFFF;\n",
              "      }\n",
              "    </style>\n",
              "    <button class=\"colab-df-generate\" onclick=\"generateWithVariable('sample_info')\"\n",
              "            title=\"Generate code using this dataframe.\"\n",
              "            style=\"display:none;\">\n",
              "\n",
              "  <svg xmlns=\"http://www.w3.org/2000/svg\" height=\"24px\"viewBox=\"0 0 24 24\"\n",
              "       width=\"24px\">\n",
              "    <path d=\"M7,19H8.4L18.45,9,17,7.55,7,17.6ZM5,21V16.75L18.45,3.32a2,2,0,0,1,2.83,0l1.4,1.43a1.91,1.91,0,0,1,.58,1.4,1.91,1.91,0,0,1-.58,1.4L9.25,21ZM18.45,9,17,7.55Zm-12,3A5.31,5.31,0,0,0,4.9,8.1,5.31,5.31,0,0,0,1,6.5,5.31,5.31,0,0,0,4.9,4.9,5.31,5.31,0,0,0,6.5,1,5.31,5.31,0,0,0,8.1,4.9,5.31,5.31,0,0,0,12,6.5,5.46,5.46,0,0,0,6.5,12Z\"/>\n",
              "  </svg>\n",
              "    </button>\n",
              "    <script>\n",
              "      (() => {\n",
              "      const buttonEl =\n",
              "        document.querySelector('#id_bec8aed9-34ef-4c9c-9a20-d40a4cf01e7f button.colab-df-generate');\n",
              "      buttonEl.style.display =\n",
              "        google.colab.kernel.accessAllowed ? 'block' : 'none';\n",
              "\n",
              "      buttonEl.onclick = () => {\n",
              "        google.colab.notebook.generateWithVariable('sample_info');\n",
              "      }\n",
              "      })();\n",
              "    </script>\n",
              "  </div>\n",
              "\n",
              "    </div>\n",
              "  </div>\n"
            ],
            "application/vnd.google.colaboratory.intrinsic+json": {
              "type": "dataframe",
              "variable_name": "sample_info"
            }
          },
          "metadata": {},
          "execution_count": 34
        }
      ]
    },
    {
      "cell_type": "markdown",
      "source": [
        "# Explore the Data"
      ],
      "metadata": {
        "id": "_w2m_uVkbm0T"
      }
    },
    {
      "cell_type": "code",
      "source": [
        "# Number of rows and columns\n",
        "print(\"Shape:\", merged_data.shape)  # Expect ~20,000 rows (genes) x 11,061 columns (samples + gene names)\n",
        "\n",
        "# Column names (sample IDs and gene names)\n",
        "print(\"Columns:\", merged_data.columns)\n",
        "\n",
        "# First few rows\n",
        "print(merged_data.head())\n",
        "\n",
        "# Replace 'primary_disease' with the actual column name\n",
        "print(\"Unique Cancer Types:\")\n",
        "print(merged_data['_primary_disease'].unique())"
      ],
      "metadata": {
        "colab": {
          "base_uri": "https://localhost:8080/"
        },
        "collapsed": true,
        "id": "Q1EdPHi4bGj_",
        "outputId": "4013a1e0-b9c8-4f81-894b-440cebfe4086"
      },
      "execution_count": 36,
      "outputs": [
        {
          "output_type": "stream",
          "name": "stdout",
          "text": [
            "Shape: (11060, 20535)\n",
            "Columns: Index(['sample', '100130426', '100133144', '100134869', '10357', '10431',\n",
            "       '136542', '155060', '26823', '280660',\n",
            "       ...\n",
            "       'ZXDB', 'ZXDC', 'ZYG11A', 'ZYG11B', 'ZYX', 'ZZEF1', 'ZZZ3',\n",
            "       'sample_type_id', 'sample_type', '_primary_disease'],\n",
            "      dtype='object', length=20535)\n",
            "            sample  100130426  100133144  100134869  10357  10431  136542  \\\n",
            "0  TCGA-OR-A5J1-01        0.0       2.09       2.30   7.23  10.99     0.0   \n",
            "1  TCGA-OR-A5J2-01        0.0       1.88       3.32   6.36  10.35     0.0   \n",
            "2  TCGA-OR-A5J3-01        0.0       1.45       2.92   6.45  10.04     0.0   \n",
            "3  TCGA-OR-A5J5-01        0.0       0.00       1.35   5.78  11.20     0.0   \n",
            "4  TCGA-OR-A5J6-01        0.0       0.00       2.45   6.09  10.30     0.0   \n",
            "\n",
            "   155060  26823  280660  ...  ZXDB   ZXDC  ZYG11A  ZYG11B    ZYX  ZZEF1  \\\n",
            "0    8.10   1.29     0.0  ...  8.46  10.04    0.57    9.34  10.85  10.18   \n",
            "1    7.65   0.00     0.0  ...  8.13  11.54    5.02   10.19  11.58  10.89   \n",
            "2    8.45   0.67     0.0  ...  8.96   9.84    0.67    9.66  11.38  10.53   \n",
            "3    8.78   0.83     0.0  ...  7.69   9.80    3.66    9.12  11.21  10.16   \n",
            "4    7.23   0.00     0.0  ...  6.89   9.81    3.14    9.64   9.47   9.64   \n",
            "\n",
            "   ZZZ3  sample_type_id    sample_type       _primary_disease  \n",
            "0  9.22             1.0  Primary Tumor  adrenocortical cancer  \n",
            "1  9.65             1.0  Primary Tumor  adrenocortical cancer  \n",
            "2  8.78             1.0  Primary Tumor  adrenocortical cancer  \n",
            "3  9.01             1.0  Primary Tumor  adrenocortical cancer  \n",
            "4  8.90             1.0  Primary Tumor  adrenocortical cancer  \n",
            "\n",
            "[5 rows x 20535 columns]\n",
            "Unique Cancer Types:\n",
            "['adrenocortical cancer' 'bladder urothelial carcinoma'\n",
            " 'diffuse large B-cell lymphoma' 'uterine corpus endometrioid carcinoma'\n",
            " 'skin cutaneous melanoma' 'head & neck squamous cell carcinoma'\n",
            " 'prostate adenocarcinoma' 'kidney papillary cell carcinoma'\n",
            " 'pancreatic adenocarcinoma' 'sarcoma' 'cervical & endocervical cancer'\n",
            " 'colon adenocarcinoma' 'lung squamous cell carcinoma'\n",
            " 'rectum adenocarcinoma' 'kidney clear cell carcinoma'\n",
            " 'liver hepatocellular carcinoma' 'breast invasive carcinoma'\n",
            " 'ovarian serous cystadenocarcinoma' 'uterine carcinosarcoma'\n",
            " 'glioblastoma multiforme' 'kidney chromophobe' 'thyroid carcinoma'\n",
            " 'brain lower grade glioma' 'lung adenocarcinoma' 'mesothelioma'\n",
            " 'pheochromocytoma & paraganglioma' 'testicular germ cell tumor'\n",
            " 'uveal melanoma' 'thymoma' 'cholangiocarcinoma' 'esophageal carcinoma'\n",
            " 'stomach adenocarcinoma' 'acute myeloid leukemia']\n"
          ]
        }
      ]
    },
    {
      "cell_type": "code",
      "source": [],
      "metadata": {
        "id": "_Z8FzrjqFqHg"
      },
      "execution_count": null,
      "outputs": []
    }
  ]
}